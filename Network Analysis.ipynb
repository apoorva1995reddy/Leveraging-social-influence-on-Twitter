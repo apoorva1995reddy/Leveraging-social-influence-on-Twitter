{
 "cells": [
  {
   "cell_type": "markdown",
   "metadata": {},
   "source": [
    "## Social Media Group Assignment 1                                  \n",
    "###### - Anurag, Apoorva, Jui, Avani, Vincent\n",
    "### Q1: Logistic Regression"
   ]
  },
  {
   "cell_type": "code",
   "execution_count": 1,
   "metadata": {},
   "outputs": [],
   "source": [
    "import pandas as pd\n",
    "from pandas import DataFrame, Series\n",
    "import numpy as np\n",
    "import os \n",
    "from sklearn.preprocessing import StandardScaler\n"
   ]
  },
  {
   "cell_type": "code",
   "execution_count": 2,
   "metadata": {},
   "outputs": [
    {
     "name": "stdout",
     "output_type": "stream",
     "text": [
      "Does train data contain NaN?  False\n",
      "Does test data contain NaN?  False\n"
     ]
    }
   ],
   "source": [
    "train =  pd.read_csv('predict-who-is-more-influential-in-a-social-network/train.csv')\n",
    "test = pd.read_csv('predict-who-is-more-influential-in-a-social-network/test.csv')\n",
    "print(\"Does train data contain NaN?  %s\"% train.isnull().any().any())\n",
    "print(\"Does test data contain NaN?  %s\"% test.isnull().any().any())"
   ]
  },
  {
   "cell_type": "markdown",
   "metadata": {},
   "source": [
    "### Preprocessing\n",
    "\n",
    "In Question 2, we will have to evaluate the feature importance based on this model. Accordingly, we scale and center each feature before modeling. \n",
    "\n",
    "The data includes information for both person A and B. We subtract the columns for A by the same columns for B. \n",
    "Take \"followers\" for example: the larger the number is, the more followers person A has compared to person B. \n",
    "This manipulation makes sense since our prediction goal is \"whether A follows B ( i.e. B is an influencer to A), so we feed the model with individual information of A and B, but the relative number of A against B. \n",
    "\n",
    "Here we also include an additional feature: the sum of feature_1 to feature_3. We will determine whether include the feature sum or individual feature based on validation_set accuracy and correlation matrix later. "
   ]
  },
  {
   "cell_type": "code",
   "execution_count": 3,
   "metadata": {},
   "outputs": [],
   "source": [
    "#scale and center the data\n",
    "scaler = StandardScaler()\n",
    "train_y = train.iloc[:,:1]\n",
    "train_x = train.iloc[:,1:]\n",
    "train_x = pd.DataFrame(scaler.fit_transform(train_x), columns = train_x.columns)\n",
    "\n",
    "\n",
    "train_x_div = DataFrame()\n",
    "for i in range(0,11):\n",
    "    train_x_div = pd.concat([train_x_div,DataFrame(train_x.iloc[:,i]-train_x.iloc[:,i+11], columns=[train_x.columns.values[i]])],\\\n",
    "         axis = 1)\n",
    "    \n",
    "#check integrity: any nan generated?\n",
    "for i in range(0,11):\n",
    "    if(train_x_div.isnull().any().iloc[i]):\n",
    "        print(sum(train_x_div.isnull().iloc[:,i]))\n",
    "\n",
    "#check integrity: any inf generated?\n",
    "train_x_div = train_x_div.mask(np.isinf(train_x_div))\n",
    "\n",
    "#drop inf and nan. In this case, the dropped dataframe still has 5500 rows. No nan/inf is generated here. \n",
    "temp = pd.concat([train_y, train_x_div], axis = 1)\n",
    "temp.dropna(how = \"any\", inplace = True)\n",
    "\n",
    "\n",
    "train_y = temp.iloc[:,:1].reset_index(inplace = False, drop = True)\n",
    "train_x_div = temp.iloc[:,1:].reset_index(inplace = False, drop = True)\n",
    "\n",
    "#Create a new feature: the sum of 3 features.\n",
    "train_x_div[\"feature_sum\"] = train_x_div['A_network_feature_1']+train_x_div['A_network_feature_2']+train_x_div['A_network_feature_3']\n",
    "\n",
    "#train_y and train_x_div is the data for modeling. "
   ]
  },
  {
   "cell_type": "markdown",
   "metadata": {},
   "source": [
    "### Correlations\n",
    "\n",
    "Correlation can inflates confience interval of coefficients, making difficulties for identifying variable importance.\n",
    "Since feature_1 is highly correlated to many other columns, we use \"feature_sum\" for modeling instead. (and will also use \"feature_sum\" for the scoring in question_2) The validation accuracy is almost the same in both cases.\n",
    "\n",
    "Also, follower count is excluded due to the high correlation with listed_count and insignificant p-value when we included it. This improves accuracy slightly. \n",
    "\n",
    "Lastly, mention_received and retweet_received are excluded due to high correlation. The validation accuracy is almost indiffernet with/without these features. "
   ]
  },
  {
   "cell_type": "code",
   "execution_count": 12,
   "metadata": {},
   "outputs": [
    {
     "name": "stdout",
     "output_type": "stream",
     "text": [
      "Corr of A_follower_count & A_listed_count: 0.79\n",
      "Corr of A_listed_count & A_mentions_received: 0.68\n",
      "Corr of A_listed_count & A_retweets_received: 0.69\n",
      "Corr of A_listed_count & A_network_feature_1: 0.65\n",
      "Corr of A_mentions_received & A_retweets_received: 0.99\n",
      "Corr of A_mentions_received & A_network_feature_1: 0.91\n",
      "Corr of A_retweets_received & A_network_feature_1: 0.92\n"
     ]
    }
   ],
   "source": [
    "corr_A = np.corrcoef(train_x_div, rowvar=0)\n",
    "\n",
    "corr_pair = []\n",
    "thres = 0.6\n",
    "for i in range(0,11):\n",
    "    for j in range(0,11):\n",
    "        if (j<i):\n",
    "            continue\n",
    "        if(corr_A[i][j] >thres and i!=j):\n",
    "            corr_pair.append((i,j, corr_A[i][j]))\n",
    "for pair in corr_pair:\n",
    "    print(\"Corr of %s & %s: %.2f\"%(train_x.columns.values[pair[0]], train_x.columns.values[pair[1]], pair[2]))"
   ]
  },
  {
   "cell_type": "markdown",
   "metadata": {},
   "source": [
    "### Model, Accuracy, Confusion Matrix and Important Features"
   ]
  },
  {
   "cell_type": "code",
   "execution_count": 4,
   "metadata": {},
   "outputs": [],
   "source": [
    "from sklearn.metrics import accuracy_score, confusion_matrix\n",
    "from sklearn.linear_model import LogisticRegressionCV, LogisticRegression\n",
    "from scipy.stats import norm\n",
    "from sklearn.linear_model import LogisticRegression\n",
    "\n",
    "def logit_pvalue(model, x):\n",
    "    \"\"\" Calculate z-scores for scikit-learn LogisticRegression.\n",
    "    parameters:\n",
    "        model: fitted sklearn.linear_model.LogisticRegression with intercept and large C\n",
    "        x:     matrix on which the model was fit\n",
    "    This function uses asymtptics for maximum likelihood estimates.\n",
    "    \"\"\"\n",
    "    p = model.predict_proba(x)\n",
    "    n = len(p)\n",
    "    m = len(model.coef_[0]) + 1\n",
    "    coefs = np.concatenate([model.intercept_, model.coef_[0]])\n",
    "    x_full = np.matrix(np.insert(np.array(x), 0, 1, axis = 1))\n",
    "    ans = np.zeros((m, m))\n",
    "    for i in range(n):\n",
    "        ans = ans + np.dot(np.transpose(x_full[i, :]), x_full[i, :]) * p[i,1] * p[i, 0]\n",
    "    vcov = np.linalg.inv(np.matrix(ans))\n",
    "    se = np.sqrt(np.diag(vcov))\n",
    "    t =  coefs/se  \n",
    "    p = (1 - norm.cdf(abs(t))) * 2\n",
    "    return p"
   ]
  },
  {
   "cell_type": "code",
   "execution_count": 14,
   "metadata": {},
   "outputs": [
    {
     "name": "stderr",
     "output_type": "stream",
     "text": [
      "/Users/k.vincent/anaconda3/lib/python3.6/site-packages/sklearn/utils/validation.py:761: DataConversionWarning: A column-vector y was passed when a 1d array was expected. Please change the shape of y to (n_samples, ), for example using ravel().\n",
      "  y = column_or_1d(y, warn=True)\n"
     ]
    },
    {
     "name": "stdout",
     "output_type": "stream",
     "text": [
      "accuracy: 0.72\n",
      "\n",
      "Confusion matrix:\n",
      "[[173  82]\n",
      " [ 57 188]]\n"
     ]
    }
   ],
   "source": [
    "#Drop the features mentioned above, and do modeling\n",
    "#Hold-out 500 observations as test data (we cannot use test_set on Kaggle. That won't provide confusion matrix)\n",
    "x_in = train_x_div.drop(['A_follower_count','A_retweets_received','A_mentions_received','A_network_feature_1','A_network_feature_2','A_network_feature_3'],axis = 1).iloc[:5000,:]\n",
    "y_in = train_y.iloc[:5000,:]\n",
    "clf = LogisticRegressionCV(random_state=99, penalty='l2', cv = 10).fit(x_in, y_in)\n",
    "\n",
    "#test data: accuracy and confusion matrix\n",
    "pred = clf.predict(train_x_div.drop(['A_follower_count','A_retweets_received','A_mentions_received','A_network_feature_1','A_network_feature_2','A_network_feature_3'],axis = 1).iloc[5000:5501,:])\n",
    "true = train_y.iloc[5000:5501,0].values\n",
    "print(\"accuracy: %.2f\"%accuracy_score(true,pred))\n",
    "print(\"\\nConfusion matrix:\")\n",
    "print(confusion_matrix(true,pred))\n",
    "\n",
    "tn, fp, fn, tp = confusion_matrix(true, pred).ravel()"
   ]
  },
  {
   "cell_type": "code",
   "execution_count": 15,
   "metadata": {},
   "outputs": [
    {
     "name": "stdout",
     "output_type": "stream",
     "text": [
      "intercept:   p-val: 0.11      coef_: 0.05\n",
      "A_following_count:   p-val: 0.08      coef_: 0.05\n",
      "A_listed_count:   p-val: 0.00      coef_: 1.31\n",
      "A_mentions_sent:   p-val: 0.01      coef_: 0.09\n",
      "A_retweets_sent:   p-val: 0.00      coef_: 0.23\n",
      "A_posts:   p-val: 0.11      coef_: 0.05\n",
      "feature_sum:   p-val: 0.00      coef_: 0.12\n"
     ]
    }
   ],
   "source": [
    "# test p-values\n",
    "p_val = logit_pvalue(clf, x_in)\n",
    "\n",
    "print('intercept', end = ':   ')\n",
    "print(\"p-val: %.2f\"%p_val[0], end = \"      \")\n",
    "print(\"coef_: %.2f\"%clf.intercept_, end = \"\\n\")\n",
    "for i in range(0, len(logit_pvalue(clf, x_in))-1):\n",
    "    print(x_in.columns.values[i], end = \":   \")\n",
    "    print(\"p-val: %.2f\"%p_val[i+1], end = \"      \")\n",
    "    print(\"coef_: %.2f\"%clf.coef_[0][i], end = \"\\n\")"
   ]
  },
  {
   "cell_type": "markdown",
   "metadata": {},
   "source": [
    "The outcome suggests that following count is not significant predictor under significant level of 0.05. Listed count, number of reweets sent and the sum of features are, respectively, top 3 features affecting the predicted probability of whether A influences B. "
   ]
  },
  {
   "cell_type": "markdown",
   "metadata": {},
   "source": [
    "## Random Forest"
   ]
  },
  {
   "cell_type": "code",
   "execution_count": 5,
   "metadata": {},
   "outputs": [
    {
     "name": "stderr",
     "output_type": "stream",
     "text": [
      "C:\\Users\\Anuraag\\Anaconda2\\envs\\py36\\lib\\site-packages\\ipykernel_launcher.py:5: DataConversionWarning: A column-vector y was passed when a 1d array was expected. Please change the shape of y to (n_samples,), for example using ravel().\n",
      "  \"\"\"\n"
     ]
    },
    {
     "data": {
      "text/plain": [
       "RandomForestClassifier(bootstrap=True, class_weight=None, criterion='gini',\n",
       "            max_depth=2, max_features='auto', max_leaf_nodes=None,\n",
       "            min_impurity_decrease=0.0, min_impurity_split=None,\n",
       "            min_samples_leaf=1, min_samples_split=2,\n",
       "            min_weight_fraction_leaf=0.0, n_estimators=100, n_jobs=1,\n",
       "            oob_score=False, random_state=0, verbose=0, warm_start=False)"
      ]
     },
     "execution_count": 5,
     "metadata": {},
     "output_type": "execute_result"
    }
   ],
   "source": [
    "from sklearn.ensemble import RandomForestClassifier\n",
    "clf_rf = RandomForestClassifier(n_estimators=100, max_depth=2,random_state=0)\n",
    "x_in = train_x_div.drop(['A_follower_count','A_retweets_received','A_mentions_received','A_network_feature_1','A_network_feature_2','A_network_feature_3'],axis = 1).iloc[:5000,:]\n",
    "y_in = train_y.iloc[:5000,:]\n",
    "clf_rf.fit(x_in,y_in)"
   ]
  },
  {
   "cell_type": "code",
   "execution_count": 7,
   "metadata": {},
   "outputs": [
    {
     "data": {
      "image/png": "[encoded data removed]",
      "text/plain": [
       "<Figure size 1152x576 with 1 Axes>"
      ]
     },
     "metadata": {},
     "output_type": "display_data"
    }
   ],
   "source": [
    "# PLotting Feature Importances\n",
    "import matplotlib.pyplot as plt\n",
    "objects = list(x_in.columns)\n",
    "y_pos = np.arange(len(objects))\n",
    "performance = clf_rf.feature_importances_\n",
    "\n",
    "plt.figure(figsize=(16,8))\n",
    "plt.bar(y_pos, performance, align='center', alpha=0.5)\n",
    "plt.xticks(y_pos, objects)\n",
    "plt.ylabel('Importance')\n",
    "plt.title('Importances from RF')\n",
    " \n",
    "plt.show()"
   ]
  },
  {
   "cell_type": "code",
   "execution_count": 8,
   "metadata": {},
   "outputs": [
    {
     "name": "stdout",
     "output_type": "stream",
     "text": [
      "accuracy: 0.77\n",
      "\n",
      "Confusion matrix:\n",
      "[[201  54]\n",
      " [ 61 184]]\n"
     ]
    }
   ],
   "source": [
    "from sklearn.metrics import accuracy_score, confusion_matrix\n",
    "#test data: accuracy and confusion matrix\n",
    "pred = clf_rf.predict(train_x_div.drop(['A_follower_count','A_retweets_received','A_mentions_received','A_network_feature_1','A_network_feature_2','A_network_feature_3'],axis = 1).iloc[5000:5501,:])\n",
    "true = train_y.iloc[5000:5501,0].values\n",
    "print(\"accuracy: %.2f\"%accuracy_score(true,pred))\n",
    "print(\"\\nConfusion matrix:\")\n",
    "print(confusion_matrix(true,pred))\n",
    "\n",
    "tn, fp, fn, tp = confusion_matrix(true, pred).ravel()"
   ]
  },
  {
   "cell_type": "markdown",
   "metadata": {},
   "source": [
    "## Net Profit (for 500 rows of holdout data) (Random Forest model)"
   ]
  },
  {
   "cell_type": "code",
   "execution_count": 12,
   "metadata": {},
   "outputs": [
    {
     "data": {
      "text/plain": [
       "505761.25800000003"
      ]
     },
     "execution_count": 12,
     "metadata": {},
     "output_type": "execute_result"
    }
   ],
   "source": [
    "# Without Analytical Model\n",
    "revenue = 0\n",
    "for i in range(5000,len(train_y)):\n",
    "    if train_y['Choice'][i] == 0:\n",
    "        r = 0.0001 * train.iloc[i,12] * 10\n",
    "    else:\n",
    "        r = 0.0001 * train.iloc[i,1] * 10\n",
    "    revenue = revenue + r\n",
    "profit = revenue - 500 * 10    \n",
    "profit"
   ]
  },
  {
   "cell_type": "code",
   "execution_count": 10,
   "metadata": {},
   "outputs": [
    {
     "data": {
      "text/plain": [
       "694019.0680000006"
      ]
     },
     "execution_count": 10,
     "metadata": {},
     "output_type": "execute_result"
    }
   ],
   "source": [
    "# With Analytics\n",
    "pred_all = clf_rf.predict(train_x_div.drop(['A_follower_count','A_retweets_received','A_mentions_received','A_network_feature_1','A_network_feature_2','A_network_feature_3'],axis = 1))\n",
    "\n",
    "revenue_2 = 0\n",
    "\n",
    "for i in range(5000,len(train_y)):\n",
    "    if train_y['Choice'][i] == pred_all[i]:\n",
    "        if train_y['Choice'][i] == 0:\n",
    "            r = 0.00015 * train.iloc[i,12] * 10\n",
    "        else:\n",
    "            r = 0.00015 * train.iloc[i,1] * 10\n",
    "    else:\n",
    "        r = 0\n",
    "    revenue_2 += r\n",
    "profit_2 = revenue_2 - 500 * 10    \n",
    "profit_2"
   ]
  },
  {
   "cell_type": "code",
   "execution_count": 11,
   "metadata": {},
   "outputs": [
    {
     "data": {
      "text/plain": [
       "761141.8870000006"
      ]
     },
     "execution_count": 11,
     "metadata": {},
     "output_type": "execute_result"
    }
   ],
   "source": [
    "# With Perfect Model\n",
    "revenue_3 = 0\n",
    "for i in range(5000,len(train_y)):\n",
    "    if train_y['Choice'][i] == 0:\n",
    "        r = 0.00015 * train.iloc[i,12] * 10\n",
    "    else:\n",
    "        r = 0.00015 * train.iloc[i,1] * 10\n",
    "    revenue_3 = revenue_3 + r\n",
    "profit_3 = revenue_3 - 500 * 10    \n",
    "profit_3"
   ]
  },
  {
   "cell_type": "code",
   "execution_count": 13,
   "metadata": {},
   "outputs": [
    {
     "data": {
      "text/plain": [
       "37.222663266944124"
      ]
     },
     "execution_count": 13,
     "metadata": {},
     "output_type": "execute_result"
    }
   ],
   "source": [
    "# % increase\n",
    "#With Analytics\n",
    "(profit_2-profit)*100/profit"
   ]
  },
  {
   "cell_type": "code",
   "execution_count": 14,
   "metadata": {},
   "outputs": [
    {
     "data": {
      "text/plain": [
       "50.49430436998805"
      ]
     },
     "execution_count": 14,
     "metadata": {},
     "output_type": "execute_result"
    }
   ],
   "source": [
    "# % increase\n",
    "#With Perfect Model\n",
    "(profit_3-profit)*100/profit"
   ]
  },
  {
   "cell_type": "code",
   "execution_count": 15,
   "metadata": {},
   "outputs": [
    {
     "name": "stdout",
     "output_type": "stream",
     "text": [
      "With Analytics, Lift: 188257.81\n",
      "With Perfect model, Lift: 255380.63\n"
     ]
    }
   ],
   "source": [
    "#Lifts\n",
    "\n",
    "print(\"With Analytics, Lift:\",round(profit_2-profit,2))\n",
    "print(\"With Perfect model, Lift:\",round(profit_3-profit,2))"
   ]
  },
  {
   "cell_type": "markdown",
   "metadata": {},
   "source": [
    "### Q2: Finding influencers from Twitter "
   ]
  },
  {
   "cell_type": "code",
   "execution_count": 16,
   "metadata": {},
   "outputs": [],
   "source": [
    "import pandas as pd\n",
    "import numpy as np\n",
    "import networkx as nx"
   ]
  },
  {
   "cell_type": "markdown",
   "metadata": {},
   "source": [
    "Networkx is a python package for the creation, manipulation and study of the structure and function of complex networks"
   ]
  },
  {
   "cell_type": "code",
   "execution_count": 17,
   "metadata": {},
   "outputs": [],
   "source": [
    "# Reading in the csv file containing tweets obtained after scraping using the twitter API\n",
    "posts=pd.read_csv('all_tweets.csv')"
   ]
  },
  {
   "cell_type": "code",
   "execution_count": 18,
   "metadata": {},
   "outputs": [],
   "source": [
    "posts['Tweeted_by']='@'+posts[' screen_name']\n",
    "posts['Column3']=np.where(posts[' text'].str.split(\" \").str[0]=='RT', 'RT', 'Tweet')\n",
    "posts['Retweeted_from']=np.where(posts.Column3=='RT',posts[' text'].str.split(\" \").str[1].str[:-1],\" \")"
   ]
  },
  {
   "cell_type": "code",
   "execution_count": 19,
   "metadata": {},
   "outputs": [
    {
     "data": {
      "text/plain": [
       "0                                 []\n",
       "1                        [@elonmusk]\n",
       "2         [@KawasakiKR11, @ex_Tesla]\n",
       "3    [@MusaTariq, @elonmusk, @Tesla]\n",
       "4    [@Lexor1969, @Tesla, @elonmusk]\n",
       "Name: mentions_list, dtype: object"
      ]
     },
     "execution_count": 19,
     "metadata": {},
     "output_type": "execute_result"
    }
   ],
   "source": [
    "### Mentions\n",
    "def username(mylist):\n",
    "    l=[elem for i, elem in enumerate(mylist) if '@' in elem]\n",
    "    return l\n",
    "posts['mentions_list']=np.where(posts.Column3!='RT',posts[' text'].str.split(\" \").map(username),posts[' text'].str.split(\" \").map(username).str[1:])\n",
    "posts['mentions_list'].head()"
   ]
  },
  {
   "cell_type": "code",
   "execution_count": 20,
   "metadata": {},
   "outputs": [
    {
     "data": {
      "text/plain": [
       "(2913, 6603)"
      ]
     },
     "execution_count": 20,
     "metadata": {},
     "output_type": "execute_result"
    }
   ],
   "source": [
    "RT_self=pd.DataFrame()\n",
    "RT_self['Tweeted_by']=RT_self['Retweeted_from']=posts[posts['Column3']=='RT']['Retweeted_from']\n",
    "RT_self['Column3']='Tweet'\n",
    "\n",
    "len(RT_self),len(posts)\n"
   ]
  },
  {
   "cell_type": "code",
   "execution_count": 21,
   "metadata": {},
   "outputs": [],
   "source": [
    "int_1=pd.DataFrame(posts.groupby('Tweeted_by').count()['ids'])\n",
    "posts=posts.merge(int_1, left_on='Tweeted_by', right_index=True)"
   ]
  },
  {
   "cell_type": "code",
   "execution_count": 22,
   "metadata": {},
   "outputs": [],
   "source": [
    "posts.rename(columns={'ids_y':'posts'}, inplace=True)"
   ]
  },
  {
   "cell_type": "code",
   "execution_count": 23,
   "metadata": {},
   "outputs": [
    {
     "name": "stderr",
     "output_type": "stream",
     "text": [
      "C:\\Users\\Avani\\Anaconda2\\envs\\py36\\lib\\site-packages\\pandas\\core\\frame.py:6211: FutureWarning: Sorting because non-concatenation axis is not aligned. A future version\n",
      "of pandas will change to not sort by default.\n",
      "\n",
      "To accept the future behavior, pass 'sort=False'.\n",
      "\n",
      "To retain the current behavior and silence the warning, pass 'sort=True'.\n",
      "\n",
      "  sort=sort)\n"
     ]
    },
    {
     "data": {
      "text/plain": [
       "114192"
      ]
     },
     "execution_count": 23,
     "metadata": {},
     "output_type": "execute_result"
    }
   ],
   "source": [
    "posts_final=posts[['Tweeted_by','Retweeted_from','mentions_list','Column3']].append(RT_self)\n",
    "posts_final[['Tweeted_by','Retweeted_from','mentions_list','Column3']].head()\n",
    "posts_final1=pd.concat([posts_final, posts_final['mentions_list'].apply(pd.Series)], axis=1).drop('mentions_list', axis = 1).melt(id_vars = ['Column3', 'Retweeted_from','Tweeted_by'], value_name = \"Mentions\")\n",
    "\n",
    "len(posts_final1)"
   ]
  },
  {
   "cell_type": "code",
   "execution_count": 24,
   "metadata": {},
   "outputs": [
    {
     "data": {
      "text/html": [
       "<div>\n",
       "<style scoped>\n",
       "    .dataframe tbody tr th:only-of-type {\n",
       "        vertical-align: middle;\n",
       "    }\n",
       "\n",
       "    .dataframe tbody tr th {\n",
       "        vertical-align: top;\n",
       "    }\n",
       "\n",
       "    .dataframe thead th {\n",
       "        text-align: right;\n",
       "    }\n",
       "</style>\n",
       "<table border=\"1\" class=\"dataframe\">\n",
       "  <thead>\n",
       "    <tr style=\"text-align: right;\">\n",
       "      <th></th>\n",
       "      <th>Column3</th>\n",
       "      <th>Retweeted_from</th>\n",
       "      <th>Tweeted_by</th>\n",
       "      <th>variable</th>\n",
       "      <th>Mentions</th>\n",
       "    </tr>\n",
       "  </thead>\n",
       "  <tbody>\n",
       "    <tr>\n",
       "      <th>0</th>\n",
       "      <td>RT</td>\n",
       "      <td>@DriftDistrict</td>\n",
       "      <td>@este_juanito</td>\n",
       "      <td>0</td>\n",
       "      <td>NaN</td>\n",
       "    </tr>\n",
       "    <tr>\n",
       "      <th>1</th>\n",
       "      <td>RT</td>\n",
       "      <td>@DriftDistrict</td>\n",
       "      <td>@este_juanito</td>\n",
       "      <td>0</td>\n",
       "      <td>NaN</td>\n",
       "    </tr>\n",
       "    <tr>\n",
       "      <th>2</th>\n",
       "      <td>Tweet</td>\n",
       "      <td></td>\n",
       "      <td>@ndt_pu</td>\n",
       "      <td>0</td>\n",
       "      <td>@elonmusk</td>\n",
       "    </tr>\n",
       "    <tr>\n",
       "      <th>3</th>\n",
       "      <td>Tweet</td>\n",
       "      <td></td>\n",
       "      <td>@ndt_pu</td>\n",
       "      <td>0</td>\n",
       "      <td>@elonmusk</td>\n",
       "    </tr>\n",
       "    <tr>\n",
       "      <th>4</th>\n",
       "      <td>Tweet</td>\n",
       "      <td></td>\n",
       "      <td>@Trumpery45</td>\n",
       "      <td>0</td>\n",
       "      <td>@KawasakiKR11</td>\n",
       "    </tr>\n",
       "  </tbody>\n",
       "</table>\n",
       "</div>"
      ],
      "text/plain": [
       "  Column3  Retweeted_from     Tweeted_by variable       Mentions\n",
       "0      RT  @DriftDistrict  @este_juanito        0            NaN\n",
       "1      RT  @DriftDistrict  @este_juanito        0            NaN\n",
       "2   Tweet                        @ndt_pu        0      @elonmusk\n",
       "3   Tweet                        @ndt_pu        0      @elonmusk\n",
       "4   Tweet                    @Trumpery45        0  @KawasakiKR11"
      ]
     },
     "execution_count": 24,
     "metadata": {},
     "output_type": "execute_result"
    }
   ],
   "source": [
    "posts_final1.head(5)"
   ]
  },
  {
   "cell_type": "code",
   "execution_count": 26,
   "metadata": {},
   "outputs": [
    {
     "name": "stderr",
     "output_type": "stream",
     "text": [
      "C:\\Users\\Avani\\Anaconda2\\envs\\py36\\lib\\site-packages\\ipykernel\\__main__.py:2: FutureWarning: Sorting because non-concatenation axis is not aligned. A future version\n",
      "of pandas will change to not sort by default.\n",
      "\n",
      "To accept the future behavior, pass 'sort=False'.\n",
      "\n",
      "To retain the current behavior and silence the warning, pass 'sort=True'.\n",
      "\n",
      "  from ipykernel import kernelapp as app\n"
     ]
    },
    {
     "data": {
      "text/html": [
       "<div>\n",
       "<style scoped>\n",
       "    .dataframe tbody tr th:only-of-type {\n",
       "        vertical-align: middle;\n",
       "    }\n",
       "\n",
       "    .dataframe tbody tr th {\n",
       "        vertical-align: top;\n",
       "    }\n",
       "\n",
       "    .dataframe thead th {\n",
       "        text-align: right;\n",
       "    }\n",
       "</style>\n",
       "<table border=\"1\" class=\"dataframe\">\n",
       "  <thead>\n",
       "    <tr style=\"text-align: right;\">\n",
       "      <th></th>\n",
       "      <th>Column1</th>\n",
       "      <th>Column2</th>\n",
       "      <th>Column3</th>\n",
       "    </tr>\n",
       "  </thead>\n",
       "  <tbody>\n",
       "    <tr>\n",
       "      <th>2</th>\n",
       "      <td>@ndt_pu</td>\n",
       "      <td>@elonmusk</td>\n",
       "      <td>Tweet</td>\n",
       "    </tr>\n",
       "    <tr>\n",
       "      <th>4</th>\n",
       "      <td>@Trumpery45</td>\n",
       "      <td>@KawasakiKR11</td>\n",
       "      <td>Tweet</td>\n",
       "    </tr>\n",
       "    <tr>\n",
       "      <th>5</th>\n",
       "      <td>@Trumpery45</td>\n",
       "      <td>@ex_Tesla</td>\n",
       "      <td>Tweet</td>\n",
       "    </tr>\n",
       "    <tr>\n",
       "      <th>8</th>\n",
       "      <td>@Trumpery45</td>\n",
       "      <td>@WehbyJammin</td>\n",
       "      <td>Tweet</td>\n",
       "    </tr>\n",
       "    <tr>\n",
       "      <th>14</th>\n",
       "      <td>@Trumpery45</td>\n",
       "      <td>@MotzkiBerlin</td>\n",
       "      <td>Tweet</td>\n",
       "    </tr>\n",
       "  </tbody>\n",
       "</table>\n",
       "</div>"
      ],
      "text/plain": [
       "        Column1        Column2 Column3\n",
       "2       @ndt_pu      @elonmusk   Tweet\n",
       "4   @Trumpery45  @KawasakiKR11   Tweet\n",
       "5   @Trumpery45      @ex_Tesla   Tweet\n",
       "8   @Trumpery45   @WehbyJammin   Tweet\n",
       "14  @Trumpery45  @MotzkiBerlin   Tweet"
      ]
     },
     "execution_count": 26,
     "metadata": {},
     "output_type": "execute_result"
    }
   ],
   "source": [
    "df_graph_n=pd.concat([posts_final1[pd.notna(posts_final1['Mentions'])][['Tweeted_by','Mentions','Column3']],\n",
    "          (posts_final1[pd.isna(posts_final1['Mentions'])][['Tweeted_by','Retweeted_from']]).rename(columns={'Retweeted_from':'Mentions'})])\n",
    "df_graph_n['Mentions']=np.where(df_graph_n['Mentions']==\" \",df_graph_n['Tweeted_by'],df_graph_n['Mentions'])\n",
    "df_graph_n['Column3']=np.where(df_graph_n['Mentions']==\" \",'Tweet',df_graph_n['Column3'])\n",
    "df_graph_n['Mentions']=np.where(df_graph_n['Mentions']==\"\",df_graph_n['Tweeted_by'],df_graph_n['Mentions'])\n",
    "df_graph_n['Column3']=np.where(df_graph_n['Mentions']==\"\",'Tweet',df_graph_n['Column3'])\n",
    "df_graph_n.rename(columns={'Tweeted_by':'Column1','Mentions':'Column2'}, inplace=True)\n",
    "df_graph_n=df_graph_n[['Column1','Column2','Column3']].drop_duplicates()\n",
    "df_graph_n.head(5)"
   ]
  },
  {
   "cell_type": "code",
   "execution_count": 27,
   "metadata": {},
   "outputs": [],
   "source": [
    "df_graph_n['Column3']=np.where(df_graph_n['Column3'].isna(),'RT',df_graph_n['Column3'])"
   ]
  },
  {
   "cell_type": "code",
   "execution_count": 28,
   "metadata": {},
   "outputs": [],
   "source": [
    "df_graph_n.to_csv('Influencer_GRAPH.csv',index=False)"
   ]
  },
  {
   "cell_type": "code",
   "execution_count": 29,
   "metadata": {},
   "outputs": [
    {
     "data": {
      "text/html": [
       "<div>\n",
       "<style scoped>\n",
       "    .dataframe tbody tr th:only-of-type {\n",
       "        vertical-align: middle;\n",
       "    }\n",
       "\n",
       "    .dataframe tbody tr th {\n",
       "        vertical-align: top;\n",
       "    }\n",
       "\n",
       "    .dataframe thead th {\n",
       "        text-align: right;\n",
       "    }\n",
       "</style>\n",
       "<table border=\"1\" class=\"dataframe\">\n",
       "  <thead>\n",
       "    <tr style=\"text-align: right;\">\n",
       "      <th></th>\n",
       "      <th>Tweeted_by</th>\n",
       "      <th>Mentions</th>\n",
       "    </tr>\n",
       "  </thead>\n",
       "  <tbody>\n",
       "    <tr>\n",
       "      <th>2</th>\n",
       "      <td>@ndt_pu</td>\n",
       "      <td>@elonmusk</td>\n",
       "    </tr>\n",
       "    <tr>\n",
       "      <th>3</th>\n",
       "      <td>@ndt_pu</td>\n",
       "      <td>@elonmusk</td>\n",
       "    </tr>\n",
       "    <tr>\n",
       "      <th>4</th>\n",
       "      <td>@Trumpery45</td>\n",
       "      <td>@KawasakiKR11</td>\n",
       "    </tr>\n",
       "    <tr>\n",
       "      <th>5</th>\n",
       "      <td>@Trumpery45</td>\n",
       "      <td>@ex_Tesla</td>\n",
       "    </tr>\n",
       "    <tr>\n",
       "      <th>6</th>\n",
       "      <td>@Trumpery45</td>\n",
       "      <td>@KawasakiKR11</td>\n",
       "    </tr>\n",
       "  </tbody>\n",
       "</table>\n",
       "</div>"
      ],
      "text/plain": [
       "    Tweeted_by       Mentions\n",
       "2      @ndt_pu      @elonmusk\n",
       "3      @ndt_pu      @elonmusk\n",
       "4  @Trumpery45  @KawasakiKR11\n",
       "5  @Trumpery45      @ex_Tesla\n",
       "6  @Trumpery45  @KawasakiKR11"
      ]
     },
     "execution_count": 29,
     "metadata": {},
     "output_type": "execute_result"
    }
   ],
   "source": [
    "df_graph=pd.concat([posts_final1[pd.notna(posts_final1['Mentions'])][['Tweeted_by','Mentions']],\n",
    "          (posts_final1[pd.isna(posts_final1['Mentions'])][['Tweeted_by','Retweeted_from']]).rename(columns={'Retweeted_from':'Mentions'})])\n",
    "\n",
    "df_graph.head()"
   ]
  },
  {
   "cell_type": "code",
   "execution_count": 30,
   "metadata": {},
   "outputs": [],
   "source": [
    "df_graph['Mentions']=np.where(df_graph['Mentions']==\" \",df_graph['Tweeted_by'],df_graph['Mentions'])\n",
    "\n",
    "df_graph['Mentions']=np.where(df_graph['Mentions']==\"\",df_graph['Tweeted_by'],df_graph['Mentions'])\n",
    "\n",
    "len(set(list(df_graph.Mentions)+list(df_graph.Tweeted_by)))\n",
    "\n",
    "df_graph.to_csv('DF_GRAPH.csv',index=False)"
   ]
  },
  {
   "cell_type": "code",
   "execution_count": 31,
   "metadata": {},
   "outputs": [],
   "source": [
    "Data = open('DF_GRAPH.csv', \"r\")\n",
    "next(Data, None)  # skip the first line in the input file\n",
    "Graphtype = nx.Graph()\n",
    "G = nx.parse_edgelist(Data, delimiter=',', create_using=Graphtype,nodetype=str,data=(('Tweeted_by', str),))"
   ]
  },
  {
   "cell_type": "code",
   "execution_count": 32,
   "metadata": {},
   "outputs": [],
   "source": [
    "import pandas as pd\n",
    "import networkx as nx\n",
    "import holoviews as hv\n",
    "import csv"
   ]
  },
  {
   "cell_type": "markdown",
   "metadata": {},
   "source": [
    "### This is the network visualization with nodes representing influencers & influenced and connections the relationship in between."
   ]
  },
  {
   "cell_type": "code",
   "execution_count": 33,
   "metadata": {},
   "outputs": [],
   "source": [
    "G = nx.DiGraph()\n",
    "nodes = []\n",
    "with open(\"DF_GRAPH.csv\",'r') as csv_open_file:\n",
    "   reader = csv.reader(csv_open_file, delimiter = \",\")\n",
    "   for r in reader:\n",
    "       if len(r) > 0:\n",
    "           G.add_edge(r[0],r[1])\n",
    "\n",
    "DEGREE_CENTRALITY = nx.degree_centrality(G)\n",
    "CLOSENESS_CENTRALITY = nx.closeness_centrality(G)\n",
    "BETWEENNESS_CENTRALITY = nx.betweenness_centrality(G)\n",
    "\n",
    "nx.draw(G, node_size = 5)\n",
    "#we don't need to repeat the 3 lines calculating centrality"
   ]
  },
  {
   "cell_type": "code",
   "execution_count": 34,
   "metadata": {},
   "outputs": [
    {
     "name": "stdout",
     "output_type": "stream",
     "text": [
      "(0.00025157232704402514, 0.00025157232704402514, 0.0)\n"
     ]
    },
    {
     "data": {
      "text/html": [
       "<div>\n",
       "<style scoped>\n",
       "    .dataframe tbody tr th:only-of-type {\n",
       "        vertical-align: middle;\n",
       "    }\n",
       "\n",
       "    .dataframe tbody tr th {\n",
       "        vertical-align: top;\n",
       "    }\n",
       "\n",
       "    .dataframe thead th {\n",
       "        text-align: right;\n",
       "    }\n",
       "</style>\n",
       "<table border=\"1\" class=\"dataframe\">\n",
       "  <thead>\n",
       "    <tr style=\"text-align: right;\">\n",
       "      <th></th>\n",
       "      <th>BETWEENNESS_CENTRALITY</th>\n",
       "      <th>DEGREE_CENTRALITY</th>\n",
       "      <th>CLOSENESS_CENTRALITY</th>\n",
       "    </tr>\n",
       "  </thead>\n",
       "  <tbody>\n",
       "    <tr>\n",
       "      <th>Tweeted_by</th>\n",
       "      <td>0.000000</td>\n",
       "      <td>0.000252</td>\n",
       "      <td>0.000000</td>\n",
       "    </tr>\n",
       "    <tr>\n",
       "      <th>Mentions</th>\n",
       "      <td>0.000000</td>\n",
       "      <td>0.000252</td>\n",
       "      <td>0.000252</td>\n",
       "    </tr>\n",
       "    <tr>\n",
       "      <th>@ndt_pu</th>\n",
       "      <td>0.000000</td>\n",
       "      <td>0.000755</td>\n",
       "      <td>0.000000</td>\n",
       "    </tr>\n",
       "    <tr>\n",
       "      <th>@elonmusk</th>\n",
       "      <td>0.000000</td>\n",
       "      <td>0.152956</td>\n",
       "      <td>0.134371</td>\n",
       "    </tr>\n",
       "    <tr>\n",
       "      <th>@Trumpery45</th>\n",
       "      <td>0.000081</td>\n",
       "      <td>0.005283</td>\n",
       "      <td>0.001239</td>\n",
       "    </tr>\n",
       "  </tbody>\n",
       "</table>\n",
       "</div>"
      ],
      "text/plain": [
       "             BETWEENNESS_CENTRALITY  DEGREE_CENTRALITY  CLOSENESS_CENTRALITY\n",
       "Tweeted_by                 0.000000           0.000252              0.000000\n",
       "Mentions                   0.000000           0.000252              0.000252\n",
       "@ndt_pu                    0.000000           0.000755              0.000000\n",
       "@elonmusk                  0.000000           0.152956              0.134371\n",
       "@Trumpery45                0.000081           0.005283              0.001239"
      ]
     },
     "execution_count": 34,
     "metadata": {},
     "output_type": "execute_result"
    }
   ],
   "source": [
    "\n",
    "DEGREE_CENTRALITY = nx.degree_centrality(G)\n",
    "CLOSENESS_CENTRALITY = nx.closeness_centrality(G)\n",
    "BETWEENNESS_CENTRALITY = nx.betweenness_centrality(G)\n",
    "\n",
    "###In Network Analysis, DEGREE, BETWEENNESS and CLOSENESS identify the most important vertices in a graph. In this case, we want to identify the most influential person in our collection of tweets\n",
    "\n",
    "# This function calculates the degree, closeness and betweenness for a given node in the network\n",
    "def answer_one():\n",
    "    \"\"\"gets measures of centrality for node 100\n",
    "\n",
    "    Returns:\n",
    "     tuple:\n",
    "      - float: degree centrality\n",
    "      - float: closeness centrality\n",
    "      - float: normalized betweeness centrality\n",
    "    \"\"\"\n",
    "    NODE = '@norwegian76'\n",
    "    return (DEGREE_CENTRALITY[NODE],CLOSENESS_CENTRALITY[NODE], BETWEENNESS_CENTRALITY[NODE])\n",
    "print (answer_one())\n",
    "\n",
    "# This function returns the node with the best score\n",
    "def largest_node(centrality):\n",
    "    \"\"\"gets the node with the best (largest score)\n",
    "\n",
    "    Returns:\n",
    "     int: name of the node with the best score\n",
    "    \"\"\"\n",
    "    return list(reversed(sorted((value, node)\n",
    "                                for (node, value) in centrality.items())))[0][1]\n",
    "                                \n",
    "largest_node(DEGREE_CENTRALITY)\n",
    "\n",
    "largest_node(BETWEENNESS_CENTRALITY)\n",
    "\n",
    "largest_node(CLOSENESS_CENTRALITY)\n",
    "\n",
    "BETWEEN = pd.DataFrame.from_dict(BETWEENNESS_CENTRALITY, orient = 'index', columns = ['BETWEENNESS_CENTRALITY'])\n",
    "\n",
    "DEGREE = pd.DataFrame.from_dict(DEGREE_CENTRALITY, orient = 'index', columns = ['DEGREE_CENTRALITY'])\n",
    "\n",
    "CLOSE = pd.DataFrame.from_dict(CLOSENESS_CENTRALITY, orient = 'index', columns = ['CLOSENESS_CENTRALITY'])\n",
    "\n",
    "FINAL = pd.concat([BETWEEN, DEGREE, CLOSE], axis=1)\n",
    "\n",
    "# After concatenating all three dictionaries into one dataframe 'FINAL'\n",
    "FINAL.head(5)\n",
    "\n"
   ]
  },
  {
   "cell_type": "code",
   "execution_count": 35,
   "metadata": {},
   "outputs": [
    {
     "data": {
      "text/html": [
       "<div>\n",
       "<style scoped>\n",
       "    .dataframe tbody tr th:only-of-type {\n",
       "        vertical-align: middle;\n",
       "    }\n",
       "\n",
       "    .dataframe tbody tr th {\n",
       "        vertical-align: top;\n",
       "    }\n",
       "\n",
       "    .dataframe thead th {\n",
       "        text-align: right;\n",
       "    }\n",
       "</style>\n",
       "<table border=\"1\" class=\"dataframe\">\n",
       "  <thead>\n",
       "    <tr style=\"text-align: right;\">\n",
       "      <th></th>\n",
       "      <th>Tweeted_by</th>\n",
       "      <th>Score</th>\n",
       "    </tr>\n",
       "  </thead>\n",
       "  <tbody>\n",
       "    <tr>\n",
       "      <th>6477</th>\n",
       "      <td>@mashable</td>\n",
       "      <td>76593.774321</td>\n",
       "    </tr>\n",
       "    <tr>\n",
       "      <th>3179</th>\n",
       "      <td>@mashable</td>\n",
       "      <td>76591.388471</td>\n",
       "    </tr>\n",
       "    <tr>\n",
       "      <th>5955</th>\n",
       "      <td>@Reuters</td>\n",
       "      <td>69936.504166</td>\n",
       "    </tr>\n",
       "    <tr>\n",
       "      <th>3895</th>\n",
       "      <td>@Reuters</td>\n",
       "      <td>69936.460912</td>\n",
       "    </tr>\n",
       "    <tr>\n",
       "      <th>2655</th>\n",
       "      <td>@Reuters</td>\n",
       "      <td>69935.311241</td>\n",
       "    </tr>\n",
       "    <tr>\n",
       "      <th>3774</th>\n",
       "      <td>@CNBC</td>\n",
       "      <td>16103.376200</td>\n",
       "    </tr>\n",
       "    <tr>\n",
       "      <th>3818</th>\n",
       "      <td>@MarketWatch</td>\n",
       "      <td>14408.349332</td>\n",
       "    </tr>\n",
       "    <tr>\n",
       "      <th>5927</th>\n",
       "      <td>@ReutersBiz</td>\n",
       "      <td>13450.551433</td>\n",
       "    </tr>\n",
       "    <tr>\n",
       "      <th>2626</th>\n",
       "      <td>@ReutersBiz</td>\n",
       "      <td>13449.954971</td>\n",
       "    </tr>\n",
       "    <tr>\n",
       "      <th>1018</th>\n",
       "      <td>@ArkangelScrap</td>\n",
       "      <td>12293.182025</td>\n",
       "    </tr>\n",
       "    <tr>\n",
       "      <th>501</th>\n",
       "      <td>@ArkangelScrap</td>\n",
       "      <td>12293.182025</td>\n",
       "    </tr>\n",
       "    <tr>\n",
       "      <th>200</th>\n",
       "      <td>@ArkangelScrap</td>\n",
       "      <td>12293.182025</td>\n",
       "    </tr>\n",
       "    <tr>\n",
       "      <th>4319</th>\n",
       "      <td>@ArkangelScrap</td>\n",
       "      <td>12292.585563</td>\n",
       "    </tr>\n",
       "    <tr>\n",
       "      <th>618</th>\n",
       "      <td>@CNNBusiness</td>\n",
       "      <td>11978.322897</td>\n",
       "    </tr>\n",
       "    <tr>\n",
       "      <th>3919</th>\n",
       "      <td>@CNNBusiness</td>\n",
       "      <td>11977.856195</td>\n",
       "    </tr>\n",
       "    <tr>\n",
       "      <th>3371</th>\n",
       "      <td>@nypost</td>\n",
       "      <td>10972.593179</td>\n",
       "    </tr>\n",
       "    <tr>\n",
       "      <th>1570</th>\n",
       "      <td>@nypost</td>\n",
       "      <td>10972.593179</td>\n",
       "    </tr>\n",
       "    <tr>\n",
       "      <th>4871</th>\n",
       "      <td>@nypost</td>\n",
       "      <td>10971.990722</td>\n",
       "    </tr>\n",
       "    <tr>\n",
       "      <th>2110</th>\n",
       "      <td>@TamaraMcCleary</td>\n",
       "      <td>6371.930710</td>\n",
       "    </tr>\n",
       "    <tr>\n",
       "      <th>5411</th>\n",
       "      <td>@TamaraMcCleary</td>\n",
       "      <td>6371.852778</td>\n",
       "    </tr>\n",
       "    <tr>\n",
       "      <th>338</th>\n",
       "      <td>@jasonfried</td>\n",
       "      <td>6089.758022</td>\n",
       "    </tr>\n",
       "    <tr>\n",
       "      <th>37</th>\n",
       "      <td>@jasonfried</td>\n",
       "      <td>6089.065963</td>\n",
       "    </tr>\n",
       "    <tr>\n",
       "      <th>1169</th>\n",
       "      <td>@IndieGameDevGuy</td>\n",
       "      <td>5740.891530</td>\n",
       "    </tr>\n",
       "    <tr>\n",
       "      <th>4470</th>\n",
       "      <td>@IndieGameDevGuy</td>\n",
       "      <td>5740.891530</td>\n",
       "    </tr>\n",
       "    <tr>\n",
       "      <th>2238</th>\n",
       "      <td>@markets</td>\n",
       "      <td>4914.604551</td>\n",
       "    </tr>\n",
       "    <tr>\n",
       "      <th>5539</th>\n",
       "      <td>@markets</td>\n",
       "      <td>4914.008088</td>\n",
       "    </tr>\n",
       "    <tr>\n",
       "      <th>567</th>\n",
       "      <td>@ABSCBNNews</td>\n",
       "      <td>4594.641165</td>\n",
       "    </tr>\n",
       "    <tr>\n",
       "      <th>266</th>\n",
       "      <td>@ABSCBNNews</td>\n",
       "      <td>4594.641165</td>\n",
       "    </tr>\n",
       "    <tr>\n",
       "      <th>4385</th>\n",
       "      <td>@ABSCBNNews</td>\n",
       "      <td>4594.087956</td>\n",
       "    </tr>\n",
       "    <tr>\n",
       "      <th>1084</th>\n",
       "      <td>@ABSCBNNews</td>\n",
       "      <td>4594.044702</td>\n",
       "    </tr>\n",
       "    <tr>\n",
       "      <th>5007</th>\n",
       "      <td>@ProductHunt</td>\n",
       "      <td>3331.361879</td>\n",
       "    </tr>\n",
       "    <tr>\n",
       "      <th>1706</th>\n",
       "      <td>@ProductHunt</td>\n",
       "      <td>3329.572492</td>\n",
       "    </tr>\n",
       "    <tr>\n",
       "      <th>4516</th>\n",
       "      <td>@evanderburg</td>\n",
       "      <td>2757.428311</td>\n",
       "    </tr>\n",
       "    <tr>\n",
       "      <th>1215</th>\n",
       "      <td>@evanderburg</td>\n",
       "      <td>2757.428311</td>\n",
       "    </tr>\n",
       "    <tr>\n",
       "      <th>753</th>\n",
       "      <td>@ComputerServerz</td>\n",
       "      <td>2679.740133</td>\n",
       "    </tr>\n",
       "    <tr>\n",
       "      <th>806</th>\n",
       "      <td>@ComputerServerz</td>\n",
       "      <td>2679.740133</td>\n",
       "    </tr>\n",
       "    <tr>\n",
       "      <th>4107</th>\n",
       "      <td>@ComputerServerz</td>\n",
       "      <td>2677.354283</td>\n",
       "    </tr>\n",
       "    <tr>\n",
       "      <th>4054</th>\n",
       "      <td>@ComputerServerz</td>\n",
       "      <td>2677.354283</td>\n",
       "    </tr>\n",
       "    <tr>\n",
       "      <th>4944</th>\n",
       "      <td>@ManMadeMoon</td>\n",
       "      <td>2505.547868</td>\n",
       "    </tr>\n",
       "    <tr>\n",
       "      <th>1643</th>\n",
       "      <td>@ManMadeMoon</td>\n",
       "      <td>2502.044317</td>\n",
       "    </tr>\n",
       "    <tr>\n",
       "      <th>5785</th>\n",
       "      <td>@FmFrancoise</td>\n",
       "      <td>2391.664351</td>\n",
       "    </tr>\n",
       "    <tr>\n",
       "      <th>2484</th>\n",
       "      <td>@FmFrancoise</td>\n",
       "      <td>2391.565854</td>\n",
       "    </tr>\n",
       "    <tr>\n",
       "      <th>4974</th>\n",
       "      <td>@CARandDRIVER</td>\n",
       "      <td>2252.134401</td>\n",
       "    </tr>\n",
       "    <tr>\n",
       "      <th>1673</th>\n",
       "      <td>@CARandDRIVER</td>\n",
       "      <td>2252.091147</td>\n",
       "    </tr>\n",
       "    <tr>\n",
       "      <th>2609</th>\n",
       "      <td>@iFrugalFitness</td>\n",
       "      <td>2200.007179</td>\n",
       "    </tr>\n",
       "    <tr>\n",
       "      <th>5910</th>\n",
       "      <td>@iFrugalFitness</td>\n",
       "      <td>2199.410716</td>\n",
       "    </tr>\n",
       "    <tr>\n",
       "      <th>4732</th>\n",
       "      <td>@macronimous</td>\n",
       "      <td>1973.514860</td>\n",
       "    </tr>\n",
       "    <tr>\n",
       "      <th>1431</th>\n",
       "      <td>@macronimous</td>\n",
       "      <td>1973.514860</td>\n",
       "    </tr>\n",
       "    <tr>\n",
       "      <th>6474</th>\n",
       "      <td>@Lucas_Wyrsch</td>\n",
       "      <td>1829.641858</td>\n",
       "    </tr>\n",
       "    <tr>\n",
       "      <th>3176</th>\n",
       "      <td>@Lucas_Wyrsch</td>\n",
       "      <td>1829.635863</td>\n",
       "    </tr>\n",
       "  </tbody>\n",
       "</table>\n",
       "</div>"
      ],
      "text/plain": [
       "            Tweeted_by         Score\n",
       "6477         @mashable  76593.774321\n",
       "3179         @mashable  76591.388471\n",
       "5955          @Reuters  69936.504166\n",
       "3895          @Reuters  69936.460912\n",
       "2655          @Reuters  69935.311241\n",
       "3774             @CNBC  16103.376200\n",
       "3818      @MarketWatch  14408.349332\n",
       "5927       @ReutersBiz  13450.551433\n",
       "2626       @ReutersBiz  13449.954971\n",
       "1018    @ArkangelScrap  12293.182025\n",
       "501     @ArkangelScrap  12293.182025\n",
       "200     @ArkangelScrap  12293.182025\n",
       "4319    @ArkangelScrap  12292.585563\n",
       "618       @CNNBusiness  11978.322897\n",
       "3919      @CNNBusiness  11977.856195\n",
       "3371           @nypost  10972.593179\n",
       "1570           @nypost  10972.593179\n",
       "4871           @nypost  10971.990722\n",
       "2110   @TamaraMcCleary   6371.930710\n",
       "5411   @TamaraMcCleary   6371.852778\n",
       "338        @jasonfried   6089.758022\n",
       "37         @jasonfried   6089.065963\n",
       "1169  @IndieGameDevGuy   5740.891530\n",
       "4470  @IndieGameDevGuy   5740.891530\n",
       "2238          @markets   4914.604551\n",
       "5539          @markets   4914.008088\n",
       "567        @ABSCBNNews   4594.641165\n",
       "266        @ABSCBNNews   4594.641165\n",
       "4385       @ABSCBNNews   4594.087956\n",
       "1084       @ABSCBNNews   4594.044702\n",
       "5007      @ProductHunt   3331.361879\n",
       "1706      @ProductHunt   3329.572492\n",
       "4516      @evanderburg   2757.428311\n",
       "1215      @evanderburg   2757.428311\n",
       "753   @ComputerServerz   2679.740133\n",
       "806   @ComputerServerz   2679.740133\n",
       "4107  @ComputerServerz   2677.354283\n",
       "4054  @ComputerServerz   2677.354283\n",
       "4944      @ManMadeMoon   2505.547868\n",
       "1643      @ManMadeMoon   2502.044317\n",
       "5785      @FmFrancoise   2391.664351\n",
       "2484      @FmFrancoise   2391.565854\n",
       "4974     @CARandDRIVER   2252.134401\n",
       "1673     @CARandDRIVER   2252.091147\n",
       "2609   @iFrugalFitness   2200.007179\n",
       "5910   @iFrugalFitness   2199.410716\n",
       "4732      @macronimous   1973.514860\n",
       "1431      @macronimous   1973.514860\n",
       "6474     @Lucas_Wyrsch   1829.641858\n",
       "3176     @Lucas_Wyrsch   1829.635863"
      ]
     },
     "execution_count": 35,
     "metadata": {},
     "output_type": "execute_result"
    }
   ],
   "source": [
    "# Including the attributes x, y, and z from the original tweets\n",
    "result = posts.merge(FINAL, how='right', left_on ='Tweeted_by', right_index=True)\n",
    "\n",
    "result = result[['Tweeted_by',' following_count',' retweet','posts', ' listed_count', 'DEGREE_CENTRALITY','BETWEENNESS_CENTRALITY','CLOSENESS_CENTRALITY' ]]\n",
    "\n",
    "result[0:50]\n",
    "\n",
    "# Converting string variables to numerical variables in order to be able to sort them\n",
    "result.loc[:,' following_count'] = pd.to_numeric(result[' following_count'], errors = 'coerce')\n",
    "result.loc[:,' listed_count'] = pd.to_numeric(result[' listed_count'], errors = 'coerce')\n",
    "result.loc[:,' retweet'] = pd.to_numeric(result[' retweet'], errors = 'coerce')\n",
    "result.loc[:,'posts'] = pd.to_numeric(result['posts'], errors = 'coerce')\n",
    "\n",
    "\n",
    "\n",
    "# Calculating score where Score = w1*x + w2*y + w3*z + w4*(scaled degree + betweenness + closeness) \n",
    "result.loc[:,'Score'] = 0.13799671*result['posts']+0.04325372*result[' retweet']+0.00599476*result[' following_count'] + 0.59646247*result[' listed_count'] + 0.05825051*(result['DEGREE_CENTRALITY']+result['BETWEENNESS_CENTRALITY']+result['CLOSENESS_CENTRALITY'])\n",
    "\n",
    "# Sort results in order to find the bes scores \n",
    "result.sort_values(by=['Score'],ascending=False)[:50][['Tweeted_by','Score']]\n",
    "\n"
   ]
  }
 ],
 "metadata": {
  "kernelspec": {
   "display_name": "Python [conda env:py36]",
   "language": "python",
   "name": "conda-env-py36-py"
  },
  "language_info": {
   "codemirror_mode": {
    "name": "ipython",
    "version": 3
   },
   "file_extension": ".py",
   "mimetype": "text/x-python",
   "name": "python",
   "nbconvert_exporter": "python",
   "pygments_lexer": "ipython3",
   "version": "3.6.6"
  }
 },
 "nbformat": 4,
 "nbformat_minor": 2
}
